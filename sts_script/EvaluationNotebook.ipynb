{
 "cells": [
  {
   "cell_type": "code",
   "execution_count": null,
   "metadata": {
    "colab": {
     "base_uri": "https://localhost:8080/"
    },
    "id": "pGHVaYSsIjvI",
    "outputId": "738d638d-2275-4cdb-fe1e-13770d47816c"
   },
   "outputs": [
    {
     "name": "stdout",
     "output_type": "stream",
     "text": [
      "Collecting semantic-text-similarity\n",
      "  Downloading semantic_text_similarity-1.0.3-py3-none-any.whl.metadata (2.6 kB)\n",
      "Requirement already satisfied: torch in /usr/local/lib/python3.10/dist-packages (from semantic-text-similarity) (2.5.1+cu121)\n",
      "Collecting strsim (from semantic-text-similarity)\n",
      "  Downloading strsim-0.0.3-py3-none-any.whl.metadata (19 kB)\n",
      "Collecting fuzzywuzzy[speedup] (from semantic-text-similarity)\n",
      "  Downloading fuzzywuzzy-0.18.0-py2.py3-none-any.whl.metadata (4.9 kB)\n",
      "Collecting pytorch-transformers==1.1.0 (from semantic-text-similarity)\n",
      "  Downloading pytorch_transformers-1.1.0-py3-none-any.whl.metadata (21 kB)\n",
      "Requirement already satisfied: scipy in /usr/local/lib/python3.10/dist-packages (from semantic-text-similarity) (1.13.1)\n",
      "Requirement already satisfied: numpy in /usr/local/lib/python3.10/dist-packages (from pytorch-transformers==1.1.0->semantic-text-similarity) (1.26.4)\n",
      "Collecting boto3 (from pytorch-transformers==1.1.0->semantic-text-similarity)\n",
      "  Downloading boto3-1.35.63-py3-none-any.whl.metadata (6.7 kB)\n",
      "Requirement already satisfied: requests in /usr/local/lib/python3.10/dist-packages (from pytorch-transformers==1.1.0->semantic-text-similarity) (2.32.3)\n",
      "Requirement already satisfied: tqdm in /usr/local/lib/python3.10/dist-packages (from pytorch-transformers==1.1.0->semantic-text-similarity) (4.66.6)\n",
      "Requirement already satisfied: regex in /usr/local/lib/python3.10/dist-packages (from pytorch-transformers==1.1.0->semantic-text-similarity) (2024.9.11)\n",
      "Requirement already satisfied: sentencepiece in /usr/local/lib/python3.10/dist-packages (from pytorch-transformers==1.1.0->semantic-text-similarity) (0.2.0)\n",
      "Requirement already satisfied: filelock in /usr/local/lib/python3.10/dist-packages (from torch->semantic-text-similarity) (3.16.1)\n",
      "Requirement already satisfied: typing-extensions>=4.8.0 in /usr/local/lib/python3.10/dist-packages (from torch->semantic-text-similarity) (4.12.2)\n",
      "Requirement already satisfied: networkx in /usr/local/lib/python3.10/dist-packages (from torch->semantic-text-similarity) (3.4.2)\n",
      "Requirement already satisfied: jinja2 in /usr/local/lib/python3.10/dist-packages (from torch->semantic-text-similarity) (3.1.4)\n",
      "Requirement already satisfied: fsspec in /usr/local/lib/python3.10/dist-packages (from torch->semantic-text-similarity) (2024.10.0)\n",
      "Requirement already satisfied: sympy==1.13.1 in /usr/local/lib/python3.10/dist-packages (from torch->semantic-text-similarity) (1.13.1)\n",
      "Requirement already satisfied: mpmath<1.4,>=1.1.0 in /usr/local/lib/python3.10/dist-packages (from sympy==1.13.1->torch->semantic-text-similarity) (1.3.0)\n",
      "Collecting python-levenshtein>=0.12 (from fuzzywuzzy[speedup]->semantic-text-similarity)\n",
      "  Downloading python_Levenshtein-0.26.1-py3-none-any.whl.metadata (3.7 kB)\n",
      "Collecting Levenshtein==0.26.1 (from python-levenshtein>=0.12->fuzzywuzzy[speedup]->semantic-text-similarity)\n",
      "  Downloading levenshtein-0.26.1-cp310-cp310-manylinux_2_17_x86_64.manylinux2014_x86_64.whl.metadata (3.2 kB)\n",
      "Collecting rapidfuzz<4.0.0,>=3.9.0 (from Levenshtein==0.26.1->python-levenshtein>=0.12->fuzzywuzzy[speedup]->semantic-text-similarity)\n",
      "  Downloading rapidfuzz-3.10.1-cp310-cp310-manylinux_2_17_x86_64.manylinux2014_x86_64.whl.metadata (11 kB)\n",
      "Collecting botocore<1.36.0,>=1.35.63 (from boto3->pytorch-transformers==1.1.0->semantic-text-similarity)\n",
      "  Downloading botocore-1.35.63-py3-none-any.whl.metadata (5.7 kB)\n",
      "Collecting jmespath<2.0.0,>=0.7.1 (from boto3->pytorch-transformers==1.1.0->semantic-text-similarity)\n",
      "  Downloading jmespath-1.0.1-py3-none-any.whl.metadata (7.6 kB)\n",
      "Collecting s3transfer<0.11.0,>=0.10.0 (from boto3->pytorch-transformers==1.1.0->semantic-text-similarity)\n",
      "  Downloading s3transfer-0.10.3-py3-none-any.whl.metadata (1.7 kB)\n",
      "Requirement already satisfied: MarkupSafe>=2.0 in /usr/local/lib/python3.10/dist-packages (from jinja2->torch->semantic-text-similarity) (3.0.2)\n",
      "Requirement already satisfied: charset-normalizer<4,>=2 in /usr/local/lib/python3.10/dist-packages (from requests->pytorch-transformers==1.1.0->semantic-text-similarity) (3.4.0)\n",
      "Requirement already satisfied: idna<4,>=2.5 in /usr/local/lib/python3.10/dist-packages (from requests->pytorch-transformers==1.1.0->semantic-text-similarity) (3.10)\n",
      "Requirement already satisfied: urllib3<3,>=1.21.1 in /usr/local/lib/python3.10/dist-packages (from requests->pytorch-transformers==1.1.0->semantic-text-similarity) (2.2.3)\n",
      "Requirement already satisfied: certifi>=2017.4.17 in /usr/local/lib/python3.10/dist-packages (from requests->pytorch-transformers==1.1.0->semantic-text-similarity) (2024.8.30)\n",
      "Requirement already satisfied: python-dateutil<3.0.0,>=2.1 in /usr/local/lib/python3.10/dist-packages (from botocore<1.36.0,>=1.35.63->boto3->pytorch-transformers==1.1.0->semantic-text-similarity) (2.8.2)\n",
      "Requirement already satisfied: six>=1.5 in /usr/local/lib/python3.10/dist-packages (from python-dateutil<3.0.0,>=2.1->botocore<1.36.0,>=1.35.63->boto3->pytorch-transformers==1.1.0->semantic-text-similarity) (1.16.0)\n",
      "Downloading semantic_text_similarity-1.0.3-py3-none-any.whl (416 kB)\n",
      "\u001b[2K   \u001b[90m━━━━━━━━━━━━━━━━━━━━━━━━━━━━━━━━━━━━━━━━\u001b[0m \u001b[32m416.0/416.0 kB\u001b[0m \u001b[31m9.3 MB/s\u001b[0m eta \u001b[36m0:00:00\u001b[0m\n",
      "\u001b[?25hDownloading pytorch_transformers-1.1.0-py3-none-any.whl (158 kB)\n",
      "\u001b[2K   \u001b[90m━━━━━━━━━━━━━━━━━━━━━━━━━━━━━━━━━━━━━━━━\u001b[0m \u001b[32m158.1/158.1 kB\u001b[0m \u001b[31m11.5 MB/s\u001b[0m eta \u001b[36m0:00:00\u001b[0m\n",
      "\u001b[?25hDownloading strsim-0.0.3-py3-none-any.whl (42 kB)\n",
      "\u001b[2K   \u001b[90m━━━━━━━━━━━━━━━━━━━━━━━━━━━━━━━━━━━━━━━━\u001b[0m \u001b[32m42.4/42.4 kB\u001b[0m \u001b[31m3.3 MB/s\u001b[0m eta \u001b[36m0:00:00\u001b[0m\n",
      "\u001b[?25hDownloading python_Levenshtein-0.26.1-py3-none-any.whl (9.4 kB)\n",
      "Downloading levenshtein-0.26.1-cp310-cp310-manylinux_2_17_x86_64.manylinux2014_x86_64.whl (162 kB)\n",
      "\u001b[2K   \u001b[90m━━━━━━━━━━━━━━━━━━━━━━━━━━━━━━━━━━━━━━━━\u001b[0m \u001b[32m162.6/162.6 kB\u001b[0m \u001b[31m13.7 MB/s\u001b[0m eta \u001b[36m0:00:00\u001b[0m\n",
      "\u001b[?25hDownloading boto3-1.35.63-py3-none-any.whl (139 kB)\n",
      "\u001b[2K   \u001b[90m━━━━━━━━━━━━━━━━━━━━━━━━━━━━━━━━━━━━━━━━\u001b[0m \u001b[32m139.2/139.2 kB\u001b[0m \u001b[31m11.5 MB/s\u001b[0m eta \u001b[36m0:00:00\u001b[0m\n",
      "\u001b[?25hDownloading fuzzywuzzy-0.18.0-py2.py3-none-any.whl (18 kB)\n",
      "Downloading botocore-1.35.63-py3-none-any.whl (12.8 MB)\n",
      "\u001b[2K   \u001b[90m━━━━━━━━━━━━━━━━━━━━━━━━━━━━━━━━━━━━━━━━\u001b[0m \u001b[32m12.8/12.8 MB\u001b[0m \u001b[31m77.6 MB/s\u001b[0m eta \u001b[36m0:00:00\u001b[0m\n",
      "\u001b[?25hDownloading jmespath-1.0.1-py3-none-any.whl (20 kB)\n",
      "Downloading s3transfer-0.10.3-py3-none-any.whl (82 kB)\n",
      "\u001b[2K   \u001b[90m━━━━━━━━━━━━━━━━━━━━━━━━━━━━━━━━━━━━━━━━\u001b[0m \u001b[32m82.6/82.6 kB\u001b[0m \u001b[31m6.2 MB/s\u001b[0m eta \u001b[36m0:00:00\u001b[0m\n",
      "\u001b[?25hDownloading rapidfuzz-3.10.1-cp310-cp310-manylinux_2_17_x86_64.manylinux2014_x86_64.whl (3.1 MB)\n",
      "\u001b[2K   \u001b[90m━━━━━━━━━━━━━━━━━━━━━━━━━━━━━━━━━━━━━━━━\u001b[0m \u001b[32m3.1/3.1 MB\u001b[0m \u001b[31m83.1 MB/s\u001b[0m eta \u001b[36m0:00:00\u001b[0m\n",
      "\u001b[?25hInstalling collected packages: strsim, fuzzywuzzy, rapidfuzz, jmespath, Levenshtein, botocore, s3transfer, python-levenshtein, boto3, pytorch-transformers, semantic-text-similarity\n",
      "Successfully installed Levenshtein-0.26.1 boto3-1.35.63 botocore-1.35.63 fuzzywuzzy-0.18.0 jmespath-1.0.1 python-levenshtein-0.26.1 pytorch-transformers-1.1.0 rapidfuzz-3.10.1 s3transfer-0.10.3 semantic-text-similarity-1.0.3 strsim-0.0.3\n"
     ]
    }
   ],
   "source": [
    "!pip3 install semantic-text-similarity"
   ]
  },
  {
   "cell_type": "code",
   "execution_count": null,
   "metadata": {
    "id": "Eg4JhelFIl5s"
   },
   "outputs": [],
   "source": [
    "from semantic_text_similarity.models import WebBertSimilarity\n",
    "import pandas as pd\n"
   ]
  },
  {
   "cell_type": "code",
   "execution_count": null,
   "metadata": {
    "colab": {
     "base_uri": "https://localhost:8080/"
    },
    "id": "RqBs0eNEIxqR",
    "outputId": "3165dfd8-d816-4207-871c-94f89f07b253"
   },
   "outputs": [],
   "source": [
    "web_model = WebBertSimilarity(device='cuda', batch_size=10) #defaults to GPU prediction\n",
    "\n",
    "data = pd.read_csv('Hyperbaton examples - Synthetic Data.csv')\n",
    "llama_data = pd.read_csv('Backtranslations.csv')\n",
    "print(data.loc[0]['Normal Sentence'])\n",
    "print(llama_data.loc[0]['Normal sentence'])\n",
    "predictions = []\n",
    "for i in range(len(data['Hyperbaton'])):\n",
    "  p = web_model.predict([(data.loc[i]['Normal Sentence'], llama_data.loc[i]['Normal sentence'])])\n",
    "  predictions.append(p[0])\n",
    "  print(p)"
   ]
  },
  {
   "cell_type": "code",
   "execution_count": null,
   "metadata": {
    "colab": {
     "base_uri": "https://localhost:8080/"
    },
    "id": "nEdOh__MK-XO",
    "outputId": "b192504c-0449-420d-a4e3-be846e3ff811"
   },
   "outputs": [
    {
     "name": "stdout",
     "output_type": "stream",
     "text": [
      "        Unnamed: 0   Similarity\n",
      "count  2514.000000  2514.000000\n",
      "mean   1256.500000     4.522755\n",
      "std     725.873612     0.174730\n",
      "min       0.000000     3.438874\n",
      "25%     628.250000     4.468771\n",
      "50%    1256.500000     4.580493\n",
      "75%    1884.750000     4.639424\n",
      "max    2513.000000     4.736422\n",
      "        Unnamed: 0   Similarity\n",
      "count  2514.000000  2514.000000\n",
      "mean   1256.500000     4.522013\n",
      "std     725.873612     0.185095\n",
      "min       0.000000     2.234549\n",
      "25%     628.250000     4.462734\n",
      "50%    1256.500000     4.563708\n",
      "75%    1884.750000     4.635615\n",
      "max    2513.000000     4.778085\n"
     ]
    }
   ],
   "source": [
    "import numpy as np\n",
    "#df = pd.DataFrame(data={'Similarity': predictions})\n",
    "#df.to_csv('LlamaScores.csv')\n",
    "d1 = pd.read_csv('GPTScores.csv')\n",
    "d2 = pd.read_csv('LlamaScores.csv')\n",
    "print(d1.describe())\n",
    "print(d2.describe())"
   ]
  }
 ],
 "metadata": {
  "accelerator": "GPU",
  "colab": {
   "gpuType": "T4",
   "provenance": []
  },
  "kernelspec": {
   "display_name": "Python 3",
   "name": "python3"
  },
  "language_info": {
   "name": "python"
  }
 },
 "nbformat": 4,
 "nbformat_minor": 0
}
