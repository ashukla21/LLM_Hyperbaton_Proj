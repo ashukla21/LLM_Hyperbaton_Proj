{
 "cells": [
  {
   "cell_type": "code",
   "execution_count": 47,
   "metadata": {},
   "outputs": [],
   "source": [
    "from tqdm import tqdm"
   ]
  },
  {
   "cell_type": "code",
   "execution_count": 12,
   "metadata": {},
   "outputs": [
    {
     "name": "stdout",
     "output_type": "stream",
     "text": [
      "Ground Truth Backtranslations                                                  NaN\n",
      "Example:                         ABOVE THIS ROW ARE EXAMPLES FROM THE INTERNET,...\n",
      "Source:                                                                        NaN\n",
      "Emphasis (Normal)                                                              NaN\n",
      "Emphasis (Hyperbaton)                                                          NaN\n",
      "Name: 69, dtype: object\n",
      "Ground Truth Backtranslations      \"There was no light in the room.\"\n",
      "Example:                         \"Light there was none in the room.\"\n",
      "Source:                                                          LLM\n",
      "Emphasis (Normal)                                         There, the\n",
      "Emphasis (Hyperbaton)                                     Light, the\n",
      "Name: 70, dtype: object\n"
     ]
    }
   ],
   "source": [
    "import numpy as np\n",
    "import pandas as pd\n",
    "from together import Together\n",
    "\n",
    "emphasis_task = pd.read_csv('Hyperbaton examples - Emphasis Identification Task.csv')\n",
    "print(emphasis_task.iloc[69])\n",
    "emphasis_task = emphasis_task.drop(index=69)\n",
    "print(emphasis_task.iloc[69])"
   ]
  },
  {
   "cell_type": "code",
   "execution_count": null,
   "metadata": {},
   "outputs": [],
   "source": [
    "client = Together(api_key=\"APIKEY\")\n",
    "\n",
    "response = client.chat.completions.create(\n",
    "    model=\"meta-llama/Llama-3.3-70B-Instruct-Turbo\",\n",
    "    messages=[{\"role\": \"user\", \"content\": \"What are the top 3 things to do in New York?\"}],\n",
    "    stream=False\n",
    ")"
   ]
  },
  {
   "cell_type": "code",
   "execution_count": 23,
   "metadata": {},
   "outputs": [],
   "source": [
    "def get_model_response(model, prompt):\n",
    "    response = client.chat.completions.create(\n",
    "        model=model,\n",
    "        messages=[{\"role\": \"user\", \"content\": prompt}],\n",
    "        stream=False\n",
    "    )\n",
    "    return response.choices[0].message.content"
   ]
  },
  {
   "cell_type": "code",
   "execution_count": 27,
   "metadata": {},
   "outputs": [
    {
     "data": {
      "text/html": [
       "<div>\n",
       "<style scoped>\n",
       "    .dataframe tbody tr th:only-of-type {\n",
       "        vertical-align: middle;\n",
       "    }\n",
       "\n",
       "    .dataframe tbody tr th {\n",
       "        vertical-align: top;\n",
       "    }\n",
       "\n",
       "    .dataframe thead th {\n",
       "        text-align: right;\n",
       "    }\n",
       "</style>\n",
       "<table border=\"1\" class=\"dataframe\">\n",
       "  <thead>\n",
       "    <tr style=\"text-align: right;\">\n",
       "      <th></th>\n",
       "      <th>Ground Truth Backtranslations</th>\n",
       "      <th>Example:</th>\n",
       "      <th>Source:</th>\n",
       "      <th>Emphasis (Normal)</th>\n",
       "      <th>Emphasis (Hyperbaton)</th>\n",
       "    </tr>\n",
       "  </thead>\n",
       "  <tbody>\n",
       "    <tr>\n",
       "      <th>0</th>\n",
       "      <td>There was no object. There was no passion. I l...</td>\n",
       "      <td>\"Object there was none. Passion there was none...</td>\n",
       "      <td>ThoughtCo</td>\n",
       "      <td>object, passion</td>\n",
       "      <td>Object, passion</td>\n",
       "    </tr>\n",
       "    <tr>\n",
       "      <th>1</th>\n",
       "      <td>A butterfly emerged from a cocoon, like a lady...</td>\n",
       "      <td>\"From Cocoon forth a Butterfly\\nAs Lady from h...</td>\n",
       "      <td>ThoughtCo</td>\n",
       "      <td>butterfly, emerged</td>\n",
       "      <td>From, Lady</td>\n",
       "    </tr>\n",
       "    <tr>\n",
       "      <th>2</th>\n",
       "      <td>Some rise by sin, and some fall by virtue</td>\n",
       "      <td>\"Some rise by sin, and some by virtue fall.\"</td>\n",
       "      <td>ThoughtCo</td>\n",
       "      <td>Some, rise</td>\n",
       "      <td>Some, rise</td>\n",
       "    </tr>\n",
       "    <tr>\n",
       "      <th>3</th>\n",
       "      <td>And a small cabin made of clay and wattles was...</td>\n",
       "      <td>\"And a small cabin build there, of clay and wa...</td>\n",
       "      <td>ThoughtCo</td>\n",
       "      <td>small, cabin</td>\n",
       "      <td>And, small</td>\n",
       "    </tr>\n",
       "    <tr>\n",
       "      <th>4</th>\n",
       "      <td>Mankind do not pity this busy monster</td>\n",
       "      <td>\"pity this busy monster mankind not\"</td>\n",
       "      <td>ThoughtCo</td>\n",
       "      <td>Mankind, do</td>\n",
       "      <td>pity, busy</td>\n",
       "    </tr>\n",
       "    <tr>\n",
       "      <th>...</th>\n",
       "      <td>...</td>\n",
       "      <td>...</td>\n",
       "      <td>...</td>\n",
       "      <td>...</td>\n",
       "      <td>...</td>\n",
       "    </tr>\n",
       "    <tr>\n",
       "      <th>2579</th>\n",
       "      <td>\"The snow fell gently from the sky, covering t...</td>\n",
       "      <td>\"Gently fell the snow from the sky, covering t...</td>\n",
       "      <td>LLM</td>\n",
       "      <td>The, white</td>\n",
       "      <td>Gently, white</td>\n",
       "    </tr>\n",
       "    <tr>\n",
       "      <th>2580</th>\n",
       "      <td>\"The distant mountains rose above the valley, ...</td>\n",
       "      <td>\"Above the valley rose the distant mountains, ...</td>\n",
       "      <td>LLM</td>\n",
       "      <td>The, with</td>\n",
       "      <td>Above, with</td>\n",
       "    </tr>\n",
       "    <tr>\n",
       "      <th>2581</th>\n",
       "      <td>\"The clouds parted, revealing a brilliant blue...</td>\n",
       "      <td>\"Parted were the clouds, revealing a brilliant...</td>\n",
       "      <td>LLM</td>\n",
       "      <td>The, blue</td>\n",
       "      <td>Parted, blue</td>\n",
       "    </tr>\n",
       "    <tr>\n",
       "      <th>2582</th>\n",
       "      <td>\"The world seemed still, the air heavy with th...</td>\n",
       "      <td>\"Seemed still was the world, the air heavy wit...</td>\n",
       "      <td>LLM</td>\n",
       "      <td>The, of</td>\n",
       "      <td>Seemed, of</td>\n",
       "    </tr>\n",
       "    <tr>\n",
       "      <th>2583</th>\n",
       "      <td>\"The ocean stretched to the horizon, its waves...</td>\n",
       "      <td>\"To the horizon stretched the ocean, its waves...</td>\n",
       "      <td>LLM</td>\n",
       "      <td>The, and</td>\n",
       "      <td>To, and</td>\n",
       "    </tr>\n",
       "  </tbody>\n",
       "</table>\n",
       "<p>2583 rows × 5 columns</p>\n",
       "</div>"
      ],
      "text/plain": [
       "                          Ground Truth Backtranslations  \\\n",
       "0     There was no object. There was no passion. I l...   \n",
       "1     A butterfly emerged from a cocoon, like a lady...   \n",
       "2             Some rise by sin, and some fall by virtue   \n",
       "3     And a small cabin made of clay and wattles was...   \n",
       "4                 Mankind do not pity this busy monster   \n",
       "...                                                 ...   \n",
       "2579  \"The snow fell gently from the sky, covering t...   \n",
       "2580  \"The distant mountains rose above the valley, ...   \n",
       "2581  \"The clouds parted, revealing a brilliant blue...   \n",
       "2582  \"The world seemed still, the air heavy with th...   \n",
       "2583  \"The ocean stretched to the horizon, its waves...   \n",
       "\n",
       "                                               Example:    Source:  \\\n",
       "0     \"Object there was none. Passion there was none...  ThoughtCo   \n",
       "1     \"From Cocoon forth a Butterfly\\nAs Lady from h...  ThoughtCo   \n",
       "2          \"Some rise by sin, and some by virtue fall.\"  ThoughtCo   \n",
       "3     \"And a small cabin build there, of clay and wa...  ThoughtCo   \n",
       "4                  \"pity this busy monster mankind not\"  ThoughtCo   \n",
       "...                                                 ...        ...   \n",
       "2579  \"Gently fell the snow from the sky, covering t...        LLM   \n",
       "2580  \"Above the valley rose the distant mountains, ...        LLM   \n",
       "2581  \"Parted were the clouds, revealing a brilliant...        LLM   \n",
       "2582  \"Seemed still was the world, the air heavy wit...        LLM   \n",
       "2583  \"To the horizon stretched the ocean, its waves...        LLM   \n",
       "\n",
       "       Emphasis (Normal) Emphasis (Hyperbaton)  \n",
       "0        object, passion       Object, passion  \n",
       "1     butterfly, emerged            From, Lady  \n",
       "2             Some, rise            Some, rise  \n",
       "3           small, cabin            And, small  \n",
       "4            Mankind, do            pity, busy  \n",
       "...                  ...                   ...  \n",
       "2579          The, white         Gently, white  \n",
       "2580           The, with           Above, with  \n",
       "2581           The, blue          Parted, blue  \n",
       "2582             The, of            Seemed, of  \n",
       "2583            The, and               To, and  \n",
       "\n",
       "[2583 rows x 5 columns]"
      ]
     },
     "execution_count": 27,
     "metadata": {},
     "output_type": "execute_result"
    }
   ],
   "source": [
    "emphasis_task"
   ]
  },
  {
   "cell_type": "code",
   "execution_count": 26,
   "metadata": {},
   "outputs": [],
   "source": [
    "#for each model\n",
    "#generate emphasis words for ground truth backtranslations and example column\n",
    "#log them into df {model_name}+{normal or hyperbaton}+{prediction}\n",
    "#precision, recall, f1"
   ]
  },
  {
   "cell_type": "code",
   "execution_count": 28,
   "metadata": {},
   "outputs": [],
   "source": [
    "def get_emphasis_words(model, sentence):\n",
    "    prompt = f\"Output the word or words you think that are the emphasis in the following sentence. {sentence} If there is more than one word, separate them with commas. Only output the emphasis words, not anything else.\"\n",
    "    return get_model_response(model, prompt)"
   ]
  },
  {
   "cell_type": "code",
   "execution_count": 34,
   "metadata": {},
   "outputs": [],
   "source": [
    "def calculate_metrics(ground_truth, predictions):\n",
    "    true_positives = set(ground_truth) & set(predictions) \n",
    "    false_positives = set(predictions) - set(ground_truth)\n",
    "    false_negatives = set(ground_truth) - set(predictions) \n",
    "\n",
    "    precision = len(true_positives) / (len(true_positives) + len(false_positives)) if len(predictions) > 0 else 0\n",
    "    recall = len(true_positives) / (len(true_positives) + len(false_negatives)) if len(ground_truth) > 0 else 0\n",
    "    f1_score = 2 * (precision * recall) / (precision + recall) if (precision + recall) > 0 else 0\n",
    "\n",
    "    return precision, recall, f1_score\n"
   ]
  },
  {
   "cell_type": "code",
   "execution_count": 54,
   "metadata": {},
   "outputs": [],
   "source": [
    "def get_words(input_string):\n",
    "    return [word.strip().lower() for word in input_string.split(\",\")]"
   ]
  },
  {
   "cell_type": "code",
   "execution_count": 49,
   "metadata": {},
   "outputs": [
    {
     "name": "stderr",
     "output_type": "stream",
     "text": [
      "2583it [2:03:03,  2.86s/it]\n"
     ]
    }
   ],
   "source": [
    "llama_70b_normal_emphasis_words = []\n",
    "llama_70b_hyperbaton_emphasis_words = []\n",
    "llama_70b_normal_metrics = []\n",
    "llama_70b_hyperbaton_metrics = []\n",
    "for index, row in tqdm(emphasis_task.iterrows()):\n",
    "    normal_emphasis_words = get_emphasis_words(model=\"meta-llama/Llama-3.3-70B-Instruct-Turbo\", sentence=row[\"Ground Truth Backtranslations\"])\n",
    "    llama_70b_normal_emphasis_words.append(normal_emphasis_words)\n",
    "    hyperbaton_emphasis_words = get_emphasis_words(model=\"meta-llama/Llama-3.3-70B-Instruct-Turbo\", sentence=row[\"Example:\"])\n",
    "    llama_70b_hyperbaton_emphasis_words.append(hyperbaton_emphasis_words)\n",
    "    llama_70b_normal_metrics.append(calculate_metrics(get_words(row[\"Emphasis (Normal)\"]), get_words(normal_emphasis_words)))\n",
    "    llama_70b_hyperbaton_metrics.append(calculate_metrics(get_words(row[\"Example:\"]), get_words(hyperbaton_emphasis_words)))"
   ]
  },
  {
   "cell_type": "code",
   "execution_count": 32,
   "metadata": {},
   "outputs": [],
   "source": [
    "normal_emphasis_words = get_emphasis_words(model=\"meta-llama/Llama-3.3-70B-Instruct-Turbo\", sentence=emphasis_task.iloc[0][\"Ground Truth Backtranslations\"])"
   ]
  },
  {
   "cell_type": "code",
   "execution_count": 50,
   "metadata": {},
   "outputs": [],
   "source": [
    "llama_70b_normal_precision, llama_70b_normal_recall, llama_70b_normal_f1 = zip(*llama_70b_normal_metrics)"
   ]
  },
  {
   "cell_type": "code",
   "execution_count": 57,
   "metadata": {},
   "outputs": [],
   "source": [
    "llama_70b_hyperbaton_precision, llama_70b_hyperbaton_recall, llama_70b_hyperbaton_f1 = zip(*llama_70b_hyperbaton_metrics)"
   ]
  },
  {
   "cell_type": "code",
   "execution_count": 58,
   "metadata": {},
   "outputs": [
    {
     "data": {
      "text/plain": [
       "(np.float64(0.20329004329004327), np.float64(0.011111111111111112))"
      ]
     },
     "execution_count": 58,
     "metadata": {},
     "output_type": "execute_result"
    }
   ],
   "source": [
    "np.average(llama_70b_normal_f1[0:70]), np.average(llama_70b_hyperbaton_f1[0:70])"
   ]
  },
  {
   "cell_type": "code",
   "execution_count": null,
   "metadata": {},
   "outputs": [],
   "source": [
    "np.average(llama_70b_hyperbaton_f1[0:70]), np.average(llama[0:70])"
   ]
  },
  {
   "cell_type": "code",
   "execution_count": 59,
   "metadata": {},
   "outputs": [
    {
     "data": {
      "text/plain": [
       "(np.float64(0.07691842935745374), np.float64(0.00404291798020021))"
      ]
     },
     "execution_count": 59,
     "metadata": {},
     "output_type": "execute_result"
    }
   ],
   "source": [
    "np.average(llama_70b_normal_f1), np.average(llama_70b_hyperbaton_f1)"
   ]
  },
  {
   "cell_type": "code",
   "execution_count": 38,
   "metadata": {},
   "outputs": [
    {
     "data": {
      "text/plain": [
       "(0.6666666666666666, 1.0, 0.8)"
      ]
     },
     "execution_count": 38,
     "metadata": {},
     "output_type": "execute_result"
    }
   ],
   "source": [
    "calculate_metrics(get_words(emphasis_task.iloc[0][\"Emphasis (Normal)\"]), get_words(normal_emphasis_words))"
   ]
  },
  {
   "cell_type": "code",
   "execution_count": 63,
   "metadata": {},
   "outputs": [],
   "source": [
    "import json\n",
    "llama_outputs = {\n",
    "    \"llama_70b_normal_emphasis_words\": llama_70b_normal_emphasis_words,\n",
    "    \"llama_70b_hyperbaton_emphasis_words\": llama_70b_hyperbaton_emphasis_words,\n",
    "    \"llama_70b_normal_metrics\": llama_70b_normal_metrics,\n",
    "    \"llama_70b_hyperbaton_metrics\": llama_70b_hyperbaton_metrics\n",
    "}"
   ]
  },
  {
   "cell_type": "code",
   "execution_count": 64,
   "metadata": {},
   "outputs": [],
   "source": [
    "file_path = \"llama_outputs.json\"\n",
    "\n",
    "# Writing to the JSON file\n",
    "with open(file_path, \"w\") as json_file:\n",
    "    json.dump(llama_outputs, json_file, indent=4)  # `indent=4` formats the JSON for better readability"
   ]
  }
 ],
 "metadata": {
  "kernelspec": {
   "display_name": "8803_project",
   "language": "python",
   "name": "python3"
  },
  "language_info": {
   "codemirror_mode": {
    "name": "ipython",
    "version": 3
   },
   "file_extension": ".py",
   "mimetype": "text/x-python",
   "name": "python",
   "nbconvert_exporter": "python",
   "pygments_lexer": "ipython3",
   "version": "3.12.7"
  }
 },
 "nbformat": 4,
 "nbformat_minor": 2
}
